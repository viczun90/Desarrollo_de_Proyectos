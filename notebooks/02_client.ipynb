{
 "cells": [
  {
   "cell_type": "markdown",
   "id": "56147113",
   "metadata": {
    "id": "d7823f82"
   },
   "source": [
    "# Laboratorio: Consumiendo un modelo de Machine Learning\n",
    "\n",
    "**Antes de empezar debemos cerciorarnos que el servidor de la parte anterior esté aún corriendo.**\n",
    "\n",
    "En este notebook construiremos un cliente muy simple usando la biblioteca `requests` para interactuar con el servidor."
   ]
  },
  {
   "cell_type": "code",
   "execution_count": 12,
   "id": "24315801",
   "metadata": {
    "id": "e4818215"
   },
   "outputs": [],
   "source": [
    "import requests\n",
    "import numpy as np\n",
    "import json"
   ]
  },
  {
   "cell_type": "markdown",
   "id": "43c8be84",
   "metadata": {
    "id": "145e3c77"
   },
   "source": [
    "## Entendiendo la URL\n",
    "\n",
    "\n",
    "Luego de experimentar usando fastAPI pudimos notar que hicimos todas las solicitudes apuntando una URL específica y le agregamos algunos parámetros.\n",
    "\n",
    "De forma más concreta:\n",
    "\n",
    "1. El servidor está alojado en la URL [http://localhost:8000/](http://localhost:8000/).\n",
    "2. El endpoint que sirve el modelo es `/predict`.\n",
    "\n",
    "Además podemos especificar que umbral de confianza usar: `confidence` que puede ser un número. "
   ]
  },
  {
   "cell_type": "code",
   "execution_count": 1,
   "id": "2768d4e9",
   "metadata": {
    "id": "7d82632e"
   },
   "outputs": [],
   "source": [
    "base_url = 'http://localhost:8000'\n",
    "endpoint = '/predict'\n",
    "confidence = 0.5"
   ]
  },
  {
   "cell_type": "markdown",
   "id": "9650dec5",
   "metadata": {
    "id": "dfbbcff3"
   },
   "source": [
    "Para consumir el modelo, vamos a agregar el endpoint a la URL base para obtener la URL completa."
   ]
  },
  {
   "cell_type": "code",
   "execution_count": 2,
   "id": "85e16f86",
   "metadata": {
    "colab": {
     "base_uri": "https://localhost:8080/",
     "height": 35
    },
    "executionInfo": {
     "elapsed": 6,
     "status": "ok",
     "timestamp": 1628209364027,
     "user": {
      "displayName": "ALONSO ASTROZA TAGLE",
      "photoUrl": "",
      "userId": "10910938541244248966"
     },
     "user_tz": 240
    },
    "id": "53600c1f",
    "outputId": "c975d542-8a73-48b6-b707-6f3d6cdab4e1"
   },
   "outputs": [
    {
     "data": {
      "text/plain": [
       "'http://localhost:8000/predict'"
      ]
     },
     "execution_count": 2,
     "metadata": {},
     "output_type": "execute_result"
    }
   ],
   "source": [
    "url_with_endpoint_no_params = base_url + endpoint\n",
    "url_with_endpoint_no_params"
   ]
  },
  {
   "cell_type": "markdown",
   "id": "3bb73761",
   "metadata": {
    "id": "1f67290d"
   },
   "source": [
    "Para agregar los parámetros que deseamos, tenemos que usar la sintaxis de agregar un caracter \"?\" seguido del nombre del parámetro y su valor.\n",
    "\n",
    "Si lo hacemos la URL final quedaría en algo como esto:"
   ]
  },
  {
   "cell_type": "code",
   "execution_count": 5,
   "id": "28812664",
   "metadata": {
    "colab": {
     "base_uri": "https://localhost:8080/",
     "height": 35
    },
    "executionInfo": {
     "elapsed": 233,
     "status": "ok",
     "timestamp": 1628209383222,
     "user": {
      "displayName": "ALONSO ASTROZA TAGLE",
      "photoUrl": "",
      "userId": "10910938541244248966"
     },
     "user_tz": 240
    },
    "id": "11ee57fa",
    "outputId": "a94709da-1589-4125-c25b-8e2889111367"
   },
   "outputs": [
    {
     "data": {
      "text/plain": [
       "'http://localhost:8000/predict?confidence=0.5'"
      ]
     },
     "execution_count": 5,
     "metadata": {},
     "output_type": "execute_result"
    }
   ],
   "source": [
    "full_url = url_with_endpoint_no_params + \"?confidence=\" + str(confidence)\n",
    "full_url"
   ]
  },
  {
   "cell_type": "markdown",
   "id": "f1f530bb",
   "metadata": {
    "id": "cb87b52d"
   },
   "source": [
    "Pero este endpoint no solo espera el nombre del modelo sino que también un vector de característica de entrada que represente un viaje en taxi. Lo ingresaremos mediante un diccionario, usando la bilbioteca `requests` para manejar ese proceso.\n",
    "\n",
    "# Enviando una solicitud al servidor\n",
    "\n",
    "### Creando la función response_from_server\n",
    "\n",
    "Como recordatorio, este endpoint espera una solicitud HTTP POST. La función `post` es parte de la biblioteca `requests`. \n",
    "\n",
    "Para pasar el vector de características del viaje junto a la solicitud, necesitamos crear un diccionario indicando el nombre de cada característica y su valor propiamente tal.\n",
    "\n",
    " `status code` es un comando útil para verificar el estado de la respuesta que la solicitud generó. **Un código de estado 200 significa que todo funcionó bien.**"
   ]
  },
  {
   "cell_type": "code",
   "execution_count": 22,
   "id": "13c6ec1d",
   "metadata": {
    "id": "299fe3a3"
   },
   "outputs": [],
   "source": [
    "def response_from_server(url, item_features, verbose=True):\n",
    "    \"\"\"Hace una solicitud POST al servidor y retorna la respuesta.\n",
    "\n",
    "    Argumentos:\n",
    "        url (str): URL a la que se envía la consulta.\n",
    "        item_features (dict): vector de característica del viaje.\n",
    "        verbose (bool): True si se debe imprimir el estado de la solicitud. False en otro caso.\n",
    "\n",
    "    Retorna:\n",
    "        requests.models.Response: Respuesta del servidor.\n",
    "    \"\"\"\n",
    "    response = requests.post(url, data=json.dumps(item_features))\n",
    "    status_code = response.status_code\n",
    "    if verbose:\n",
    "        msg = \"¡Todo funcionó bien!\" if status_code == 200 else \"Hubo un error al ejecutar la solicitud.\"\n",
    "        print(msg)\n",
    "    return response"
   ]
  },
  {
   "cell_type": "markdown",
   "id": "c9bf8ea3",
   "metadata": {
    "id": "d4f1842b"
   },
   "source": [
    "Para probar la función, abriremos un archivo y lo pasaremos como un parámetro junto a la URL:"
   ]
  },
  {
   "cell_type": "code",
   "execution_count": 20,
   "id": "79890bdc",
   "metadata": {},
   "outputs": [],
   "source": [
    "item_features =  {\n",
    "  \"pickup_weekday\": 5,\n",
    "  \"pickup_hour\": 0,\n",
    "  \"work_hours\": 0,\n",
    "  \"pickup_minute\": 17.0,\n",
    "  \"passenger_count\": 1,\n",
    "  \"trip_distance\": 2.599,\n",
    "  \"trip_time\": 777,\n",
    "  \"trip_speed\": 3.3462034e-03,\n",
    "  \"PULocationID\": 145,\n",
    "  \"DOLocationID\": 7,\n",
    "  \"RatecodeID\": 1\n",
    "}"
   ]
  },
  {
   "cell_type": "code",
   "execution_count": 21,
   "id": "c65e1e63",
   "metadata": {
    "id": "37d3593d"
   },
   "outputs": [
    {
     "name": "stdout",
     "output_type": "stream",
     "text": [
      "¡Todo funcionó bien!\n"
     ]
    },
    {
     "data": {
      "text/plain": [
       "'{\"predicted_class\":1}'"
      ]
     },
     "execution_count": 21,
     "metadata": {},
     "output_type": "execute_result"
    }
   ],
   "source": [
    "prediction = response_from_server(full_url, item_features)\n",
    "prediction.text"
   ]
  },
  {
   "cell_type": "markdown",
   "id": "4b4cd380",
   "metadata": {
    "id": "d0af4d2b"
   },
   "source": [
    "La solicitud fue exitosa :)"
   ]
  },
  {
   "cell_type": "markdown",
   "id": "6c72f10b",
   "metadata": {
    "id": "475e73e9"
   },
   "source": [
    "**¡Con esto finalizamos el Laboratorio!** Tener clientes y servidores en la vida real conlleva un montón de otras cosas en términos de seguridad y desempeño. Pero de todas formas este código se asemeja bastante a la base de lo que ocurre en ambientes de producción. Ya revisamos los conceptos fundamentales para implementar un modelo y consumirlo."
   ]
  }
 ],
 "metadata": {
  "colab": {
   "collapsed_sections": [],
   "name": "client.ipynb",
   "provenance": [
    {
     "file_id": "1WyDwDL7HNADH-hdM17TIk4BL1iQXvrdR",
     "timestamp": 1656109789669
    }
   ]
  },
  "kernelspec": {
   "display_name": "Python 3 (ipykernel)",
   "language": "python",
   "name": "python3"
  },
  "language_info": {
   "codemirror_mode": {
    "name": "ipython",
    "version": 3
   },
   "file_extension": ".py",
   "mimetype": "text/x-python",
   "name": "python",
   "nbconvert_exporter": "python",
   "pygments_lexer": "ipython3",
   "version": "3.8.13"
  }
 },
 "nbformat": 4,
 "nbformat_minor": 5
}
